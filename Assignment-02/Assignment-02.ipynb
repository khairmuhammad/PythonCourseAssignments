{
 "cells": [
  {
   "cell_type": "markdown",
   "metadata": {},
   "source": [
    "### Assignment-02\n",
    "### Name: Khair Muhammad Memon\n",
    "### Roll No: PY01691\n",
    "### Email: khairmuhammadmemon@gmail.com"
   ]
  },
  {
   "cell_type": "markdown",
   "metadata": {},
   "source": [
    "#### 1. Write a program which takes 5 inputs from user for different subject’s marks, total it and generate mark sheet using grades ?"
   ]
  },
  {
   "cell_type": "code",
   "execution_count": 8,
   "metadata": {},
   "outputs": [
    {
     "name": "stdout",
     "output_type": "stream",
     "text": [
      "Subject No.  1\n",
      "Enter marks: 90\n",
      "Subject No.  2\n",
      "Enter marks: 9\n",
      "Subject No.  3\n",
      "Enter marks: 09\n",
      "Subject No.  4\n",
      "Enter marks: 90\n",
      "Subject No.  5\n",
      "Enter marks: 90\n",
      "Average Marks:  57.6\n",
      "Grade: F\n"
     ]
    }
   ],
   "source": [
    "total_marks = 0\n",
    "marks_arr = []\n",
    "i = 1\n",
    "def marks():\n",
    " mark=-1\n",
    " print(\"Subject No. \",i+1) \n",
    " while mark not in range(101):\n",
    " \n",
    "  mark=int(input(\"Enter marks: \"))\n",
    "  if(mark>100):\n",
    "   print(\"Marks can not be greater than 100!\")\n",
    " return mark\n",
    "for i in range(5):\n",
    " \n",
    " marks_arr.append(marks())     \n",
    " \n",
    "    \n",
    "for i in range(5):\n",
    " total_marks+=marks_arr[i]\n",
    " avg_marks=total_marks/5\n",
    "print(\"Average Marks: \",avg_marks)\n",
    "if(avg_marks>=90):\n",
    "    print(\"Grade: A\")\n",
    "elif(avg_marks>=80 and avg_marks<90):\n",
    "    print(\"Grade: B\")\n",
    "elif(avg_marks>=70 and avg_marks<80):\n",
    "    print(\"Grade: C\")\n",
    "elif(avg_marks>=60 and avg_marks<70):\n",
    "    print(\"Grade: D\")\n",
    "else:\n",
    "    print(\"Grade: F\")"
   ]
  },
  {
   "cell_type": "markdown",
   "metadata": {},
   "source": [
    "#### 2. Write a program which take input from user and identify that the given number is even or odd?"
   ]
  },
  {
   "cell_type": "code",
   "execution_count": 12,
   "metadata": {},
   "outputs": [
    {
     "name": "stdout",
     "output_type": "stream",
     "text": [
      "Enter any number: 11\n",
      "Number 11 is Odd\n"
     ]
    }
   ],
   "source": [
    "number = input(\"Enter any number: \")\n",
    "\n",
    "if int(number)%2 == 0:\n",
    "    print(\"Number\",number,\"is Even\")\n",
    "else:\n",
    "    print(\"Number\",number,\"is Odd\")"
   ]
  },
  {
   "cell_type": "markdown",
   "metadata": {},
   "source": [
    "#### 3. Write a program which print the length of the list?"
   ]
  },
  {
   "cell_type": "code",
   "execution_count": 13,
   "metadata": {},
   "outputs": [
    {
     "name": "stdout",
     "output_type": "stream",
     "text": [
      "Length of List is: 6\n"
     ]
    }
   ],
   "source": [
    "mList = [\"one\",2,\"Three\",4.0,5.00,\"Six\"]\n",
    "\n",
    "length = len(mList)\n",
    "\n",
    "print(\"Length of List is:\",length)"
   ]
  },
  {
   "cell_type": "markdown",
   "metadata": {},
   "source": [
    "#### 4. Write a Python program to sum all the numeric items in a list?"
   ]
  },
  {
   "cell_type": "code",
   "execution_count": 15,
   "metadata": {},
   "outputs": [
    {
     "name": "stdout",
     "output_type": "stream",
     "text": [
      "22.0\n"
     ]
    }
   ],
   "source": [
    "mList = [5,\"three\",4,\"five\",6,7.0,\"eight\",True]\n",
    "\n",
    "mSum = 0\n",
    "for i in mList:\n",
    "    if type(i) == int or type(i) == float:\n",
    "        mSum += i\n",
    "        \n",
    "print(mSum)\n",
    "        "
   ]
  },
  {
   "cell_type": "markdown",
   "metadata": {},
   "source": [
    "#### 5. Write a Python program to get the largest number from a numeric list."
   ]
  },
  {
   "cell_type": "code",
   "execution_count": 24,
   "metadata": {},
   "outputs": [
    {
     "name": "stdout",
     "output_type": "stream",
     "text": [
      "Largest number in list is: 233\n"
     ]
    }
   ],
   "source": [
    "numericList = [4,5,32,23,1,233,3]\n",
    "numericList.sort()\n",
    "print('Largest number in list is:',numericList[-1])"
   ]
  },
  {
   "cell_type": "markdown",
   "metadata": {},
   "source": [
    "#### Take a list, say for example this one:\n",
    "#### a = [1, 1, 2, 3, 5, 8, 13, 21, 34, 55, 89]\n",
    "#### and write a program that prints out all the elements of the list that are\n",
    "#### less than 5."
   ]
  },
  {
   "cell_type": "code",
   "execution_count": 30,
   "metadata": {},
   "outputs": [
    {
     "name": "stdout",
     "output_type": "stream",
     "text": [
      "Numbers which are less than five: [1, 1, 2, 3]\n"
     ]
    }
   ],
   "source": [
    "a = [1, 1, 2, 3, 5, 8, 13, 21, 34, 55, 89]\n",
    "\n",
    "listt = []\n",
    "for i in a:\n",
    "    if i < 5:\n",
    "      listt.append(i)  \n",
    "\n",
    "print('Numbers which are less than five:',listt)"
   ]
  }
 ],
 "metadata": {
  "kernelspec": {
   "display_name": "Python 3",
   "language": "python",
   "name": "python3"
  },
  "language_info": {
   "codemirror_mode": {
    "name": "ipython",
    "version": 3
   },
   "file_extension": ".py",
   "mimetype": "text/x-python",
   "name": "python",
   "nbconvert_exporter": "python",
   "pygments_lexer": "ipython3",
   "version": "3.7.3"
  }
 },
 "nbformat": 4,
 "nbformat_minor": 2
}
