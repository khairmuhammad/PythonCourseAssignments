{
 "cells": [
  {
   "cell_type": "markdown",
   "metadata": {},
   "source": [
    "### Assignment-02\n",
    "### Name: Khair Muhammad Memon\n",
    "### Roll No: PY01691\n",
    "### Email: khairmuhammadmemon@gmail.com"
   ]
  },
  {
   "cell_type": "code",
   "execution_count": 8,
   "metadata": {},
   "outputs": [
    {
     "name": "stdout",
     "output_type": "stream",
     "text": [
      "Subject No.  1\n",
      "Enter marks: 90\n",
      "Subject No.  2\n",
      "Enter marks: 9\n",
      "Subject No.  3\n",
      "Enter marks: 09\n",
      "Subject No.  4\n",
      "Enter marks: 90\n",
      "Subject No.  5\n",
      "Enter marks: 90\n",
      "Average Marks:  57.6\n",
      "Grade: F\n"
     ]
    }
   ],
   "source": [
    "total_marks = 0\n",
    "marks_arr = []\n",
    "i = 1\n",
    "def marks():\n",
    " mark=-1\n",
    " print(\"Subject No. \",i+1) \n",
    " while mark not in range(101):\n",
    " \n",
    "  mark=int(input(\"Enter marks: \"))\n",
    "  if(mark>100):\n",
    "   print(\"Marks can not be greater than 100!\")\n",
    " return mark\n",
    "for i in range(5):\n",
    " \n",
    " marks_arr.append(marks())     \n",
    " \n",
    "    \n",
    "for i in range(5):\n",
    " total_marks+=marks_arr[i]\n",
    " avg_marks=total_marks/5\n",
    "print(\"Average Marks: \",avg_marks)\n",
    "if(avg_marks>=90):\n",
    "    print(\"Grade: A\")\n",
    "elif(avg_marks>=80 and avg_marks<90):\n",
    "    print(\"Grade: B\")\n",
    "elif(avg_marks>=70 and avg_marks<80):\n",
    "    print(\"Grade: C\")\n",
    "elif(avg_marks>=60 and avg_marks<70):\n",
    "    print(\"Grade: D\")\n",
    "else:\n",
    "    print(\"Grade: F\")"
   ]
  },
  {
   "cell_type": "code",
   "execution_count": null,
   "metadata": {},
   "outputs": [],
   "source": []
  },
  {
   "cell_type": "code",
   "execution_count": null,
   "metadata": {},
   "outputs": [],
   "source": []
  }
 ],
 "metadata": {
  "kernelspec": {
   "display_name": "Python 3",
   "language": "python",
   "name": "python3"
  },
  "language_info": {
   "codemirror_mode": {
    "name": "ipython",
    "version": 3
   },
   "file_extension": ".py",
   "mimetype": "text/x-python",
   "name": "python",
   "nbconvert_exporter": "python",
   "pygments_lexer": "ipython3",
   "version": "3.7.3"
  }
 },
 "nbformat": 4,
 "nbformat_minor": 2
}
