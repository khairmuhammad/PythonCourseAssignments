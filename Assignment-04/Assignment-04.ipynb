{
 "cells": [
  {
   "cell_type": "markdown",
   "metadata": {},
   "source": [
    "### Assignment-04\n",
    "### Name: Khair Muhammad Memon\n",
    "### Roll No: PY01691\n",
    "### Email: khairmuhammadmemon@gmail.com"
   ]
  },
  {
   "cell_type": "markdown",
   "metadata": {},
   "source": [
    "#### Question1:\n",
    "Use a dictionary to store information about a person you know. Store their first name, last name, age,\n",
    "and the city in which they live. You should have keys such as first_name, last_name, age, and city. Print\n",
    "each piece of information stored in your dictionary. Add a new key value pair about qualification then\n",
    "update the qualification value to high academic level then delete it."
   ]
  },
  {
   "cell_type": "code",
   "execution_count": 136,
   "metadata": {},
   "outputs": [],
   "source": [
    "#creating dictionary\n",
    "person_dict = {\"first_name\":\"Khair Muhammad\",\"last_name\":\"Memon\",\"age\":21,\n",
    "               \"city\":\"Sukkur\"}"
   ]
  },
  {
   "cell_type": "code",
   "execution_count": 137,
   "metadata": {},
   "outputs": [
    {
     "data": {
      "text/plain": [
       "{'first_name': 'Khair Muhammad',\n",
       " 'last_name': 'Memon',\n",
       " 'age': 21,\n",
       " 'city': 'Sukkur'}"
      ]
     },
     "execution_count": 137,
     "metadata": {},
     "output_type": "execute_result"
    }
   ],
   "source": [
    "#all values in the dictionary\n",
    "person_dict"
   ]
  },
  {
   "cell_type": "code",
   "execution_count": 138,
   "metadata": {},
   "outputs": [
    {
     "data": {
      "text/plain": [
       "{'first_name': 'Khair Muhammad',\n",
       " 'last_name': 'Memon',\n",
       " 'age': 21,\n",
       " 'city': 'Sukkur',\n",
       " 'qualification': ''}"
      ]
     },
     "execution_count": 138,
     "metadata": {},
     "output_type": "execute_result"
    }
   ],
   "source": [
    "#Add a new key value pair about qualification \n",
    "q = {\"qualification\":\"\"}\n",
    "person_dict.update(q)\n",
    "\n",
    "person_dict"
   ]
  },
  {
   "cell_type": "code",
   "execution_count": 139,
   "metadata": {},
   "outputs": [
    {
     "data": {
      "text/plain": [
       "{'first_name': 'Khair Muhammad',\n",
       " 'last_name': 'Memon',\n",
       " 'age': 21,\n",
       " 'city': 'Sukkur',\n",
       " 'qualification': 'high academic level'}"
      ]
     },
     "execution_count": 139,
     "metadata": {},
     "output_type": "execute_result"
    }
   ],
   "source": [
    "#inserting into dictionary\n",
    "for k in person_dict:\n",
    "    if k == \"qualification\":\n",
    "        person_dict[k] = \"high academic level\"\n",
    "\n",
    "#showing all values\n",
    "person_dict"
   ]
  },
  {
   "cell_type": "code",
   "execution_count": 140,
   "metadata": {},
   "outputs": [
    {
     "data": {
      "text/plain": [
       "{'first_name': 'Khair Muhammad',\n",
       " 'last_name': 'Memon',\n",
       " 'age': 21,\n",
       " 'city': 'Sukkur'}"
      ]
     },
     "execution_count": 140,
     "metadata": {},
     "output_type": "execute_result"
    }
   ],
   "source": [
    "#deleting into dictionary\n",
    "person_dict.pop(\"qualification\")\n",
    "#showing all values\n",
    "person_dict"
   ]
  },
  {
   "cell_type": "markdown",
   "metadata": {},
   "source": [
    "#### Question2:\n",
    "Make a dictionary called cities. Use the names of three cities as keys in your dictionary. Create a\n",
    "dictionary of information about each city and include the country that the city is in, its approximate\n",
    "population, and one fact about that city. The keys for each city’s dictionary should be something like\n",
    "country, population, and fact. Print the name of each city and all of the information you have stored\n",
    "about it."
   ]
  },
  {
   "cell_type": "code",
   "execution_count": 141,
   "metadata": {},
   "outputs": [],
   "source": [
    "cities = {\"Karachi\":{\"country\":\"Pakistan\",\"population\":\"14.9 million\",\"fact\":\"biggest city of Pakistan\"},\n",
    "          \"Dehli\":{\"country\":\"India\",\"population\":\"18.98 million\",\"fact\":\"most polluted city\"},\n",
    "          \"Dhaka\":{\"country\":\"Bangladesh\",\"population\":\"8.906 million\",\"fact\":\"has most mosques\"}}"
   ]
  },
  {
   "cell_type": "code",
   "execution_count": 142,
   "metadata": {},
   "outputs": [
    {
     "name": "stdout",
     "output_type": "stream",
     "text": [
      "{'country': 'Pakistan', 'population': '14.9 million', 'fact': 'biggest city of Pakistan'}\n",
      "{'country': 'India', 'population': '18.98 million', 'fact': 'most polluted city'}\n",
      "{'country': 'Bangladesh', 'population': '8.906 million', 'fact': 'has most mosques'}\n"
     ]
    }
   ],
   "source": [
    "print(cities[\"Karachi\"])\n",
    "print(cities[\"Dehli\"])\n",
    "print(cities[\"Dhaka\"])"
   ]
  },
  {
   "cell_type": "markdown",
   "metadata": {},
   "source": [
    "#### Question3:\n",
    "A movie theater charges different ticket prices depending on a person’s age. If a person is under the age\n",
    "of 3, the ticket is free; if they are between 3 and 12, the ticket is $10; and if they are over age 12, the\n",
    "ticket is $15. Write a loop in which you ask users their age, and then tell them the cost of their movie\n",
    "ticket."
   ]
  },
  {
   "cell_type": "code",
   "execution_count": 143,
   "metadata": {},
   "outputs": [
    {
     "name": "stdout",
     "output_type": "stream",
     "text": [
      "Enter your age:11\n",
      "your ticket is 10\n"
     ]
    }
   ],
   "source": [
    "while(True):\n",
    "    age = int(input(\"Enter your age:\"))\n",
    "    if(age < 3):\n",
    "        print(\"your ticket is free!\")\n",
    "    elif(age >= 3 and age <= 12):\n",
    "        print(\"your ticket is 10\")\n",
    "    elif(age > 12):\n",
    "        print(\"your ticket is 15\")\n",
    "    break"
   ]
  },
  {
   "cell_type": "markdown",
   "metadata": {},
   "source": [
    "#### Question4:\n",
    "Write a function called favorite_book() that accepts one parameter, title. The function should print a\n",
    "message, such as One of my favorite books is Alice in Wonderland. Call the function, making sure to\n",
    "include a book title as an argument in the function call."
   ]
  },
  {
   "cell_type": "code",
   "execution_count": 144,
   "metadata": {},
   "outputs": [
    {
     "name": "stdout",
     "output_type": "stream",
     "text": [
      "One of my favorite book is The Fault in Our Stars\n"
     ]
    }
   ],
   "source": [
    "def favorite_book(title):\n",
    "    print(\"One of my favorite book is\",title)\n",
    "    \n",
    "    \n",
    "favorite_book(\"The Fault in Our Stars\")"
   ]
  },
  {
   "cell_type": "markdown",
   "metadata": {},
   "source": [
    "#### Question5:\n",
    "Guess the number game\n",
    "Write a program which randomly generate a number between 1 to 30 and ask the user in input field to\n",
    "guess the correct number. Give three chances to user guess the number and also give hint to user if\n",
    "hidden number is greater or smaller than the number he given to input field."
   ]
  },
  {
   "cell_type": "code",
   "execution_count": 146,
   "metadata": {},
   "outputs": [
    {
     "name": "stdout",
     "output_type": "stream",
     "text": [
      "Enter number:11\n",
      "you entered the smaller number\n",
      "Enter number:22\n",
      "you entered the smaller number\n",
      "Enter number:28\n",
      "congrats, you guess the right number\n"
     ]
    }
   ],
   "source": [
    "from random import randint\n",
    "\n",
    "#chances\n",
    "life=3\n",
    "\n",
    "#random number\n",
    "real_number = randint(0,30)\n",
    "\n",
    "while(life>0):\n",
    "    #user's number\n",
    "    user_number = int(input(\"Enter number:\"))\n",
    "    \n",
    "    if(real_number > user_number):\n",
    "        print(\"you entered the smaller number\")\n",
    "    elif(real_number < user_number):\n",
    "        print(\"you entered the greater number\")\n",
    "    elif(real_number == user_number):\n",
    "        print(\"congrats, you guess the right number\")\n",
    "        break\n",
    "    life = life - 1\n",
    "    \n",
    "if(life == 0):\n",
    "    print(\"try again!\")"
   ]
  },
  {
   "cell_type": "code",
   "execution_count": null,
   "metadata": {},
   "outputs": [],
   "source": []
  }
 ],
 "metadata": {
  "kernelspec": {
   "display_name": "Python 3",
   "language": "python",
   "name": "python3"
  },
  "language_info": {
   "codemirror_mode": {
    "name": "ipython",
    "version": 3
   },
   "file_extension": ".py",
   "mimetype": "text/x-python",
   "name": "python",
   "nbconvert_exporter": "python",
   "pygments_lexer": "ipython3",
   "version": "3.7.3"
  }
 },
 "nbformat": 4,
 "nbformat_minor": 2
}
