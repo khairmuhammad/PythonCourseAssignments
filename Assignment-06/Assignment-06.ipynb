{
 "cells": [
  {
   "cell_type": "markdown",
   "metadata": {},
   "source": [
    "### Assignment-06\n",
    "### Name: Khair Muhammad Memon\n",
    "### Roll No: PY01691\n",
    "### Email: khairmuhammadmemon@gmail.com"
   ]
  },
  {
   "cell_type": "markdown",
   "metadata": {},
   "source": [
    "##### Question 1:\n",
    "Define Object Oriented Programming Language?"
   ]
  },
  {
   "cell_type": "markdown",
   "metadata": {},
   "source": [
    "Object-oriented programming: As the name suggests, Object-Oriented Programming or OOPs refers to languages that uses objects in programming. Object-oriented programming aims to implement real-world entities like inheritance, hiding, polymorphism etc in programming. The main aim of OOP is to bind together the data and the functions that operate on them so that no other part of the code can access this data except that function. "
   ]
  },
  {
   "cell_type": "markdown",
   "metadata": {},
   "source": [
    "##### Question 2:\n",
    "List down the Benefits of OOP? "
   ]
  },
  {
   "cell_type": "markdown",
   "metadata": {},
   "source": [
    "1. Modularity for easier troubleshooting\n",
    "2. Reuse of code through inheritance\n",
    "3. Flexibility through polymorphism\n",
    "4. Effective problem solving\n",
    "5. Design Benefits\n",
    "6. Better productivity"
   ]
  },
  {
   "cell_type": "markdown",
   "metadata": {},
   "source": [
    "##### Question 3:\n",
    "Differentiate between function and method? "
   ]
  },
  {
   "cell_type": "markdown",
   "metadata": {},
   "source": [
    " A function is a piece of code that is called by name. It can be passed data to operate on (i.e. the parameters) and can optionally return data (the return value). All data that is passed to a function is explicitly passed.\n",
    "\n",
    "A method is a piece of code that is called by a name that is associated with an object. In most respects it is identical to a function except for two key differences:\n",
    "    1. A method is implicitly passed the object on which it was called.\n",
    "    2. A method is able to operate on data that is contained within the class (remembering that an object is an instance of a class - the class is the definition, the object is an instance of that data).\n"
   ]
  },
  {
   "cell_type": "markdown",
   "metadata": {},
   "source": [
    "##### Question 4:\n",
    "Define the following terms:\n",
    "1. Class\n",
    "2. Object\n",
    "3. Attribute\n",
    "4. Behavior "
   ]
  },
  {
   "cell_type": "markdown",
   "metadata": {},
   "source": [
    "##### Class:\n",
    "A class is a user defined blueprint or prototype from which objects are created. It represents the set of properties or methods that are common to all objects of one type.\n",
    "##### Object:\n",
    "It is a basic unit of Object Oriented Programming and represents the real life entities. A typical Java program creates many objects, which as you know, interact by invoking methods.\n",
    "##### Attribute:\n",
    "\n",
    "##### Behaviour:\n",
    "It is represented by methods of an object. It also reflects the response of an object with other objects."
   ]
  },
  {
   "cell_type": "markdown",
   "metadata": {},
   "source": [
    "##### Question 5:\n",
    "Write a code in python in which create a class named it Car which\n",
    "have 5 attributes such like (model, color and name etc.) and 3\n",
    "methods. And create 5 object instance from that class. "
   ]
  },
  {
   "cell_type": "code",
   "execution_count": 38,
   "metadata": {},
   "outputs": [
    {
     "name": "stdout",
     "output_type": "stream",
     "text": [
      "************************************************\n",
      "Make is: Suzuki \n",
      "Model is: Mehran \n",
      "Color is: White \n",
      "Price is: 700000 \n",
      "Owner is: Ali \n",
      "************************************************\n",
      "Suzuki\n",
      "Owner is: Ali\n",
      "Price is: 700000\n",
      "************************************************\n",
      "Make is: Honda \n",
      "Model is: City \n",
      "Color is: Black \n",
      "Price is: 2000000 \n",
      "Owner is: Usama \n",
      "************************************************\n",
      "************************************************\n",
      "Make is: Toyota \n",
      "Model is: XLI \n",
      "Color is: Brown \n",
      "Price is: 1700000 \n",
      "Owner is: Ahsan \n",
      "************************************************\n",
      "************************************************\n",
      "Make is: Audi \n",
      "Model is: S5 \n",
      "Color is: Grey \n",
      "Price is: 4700000 \n",
      "Owner is: Ahmed \n",
      "************************************************\n",
      "************************************************\n",
      "Make is: Mercedez \n",
      "Model is: E Class \n",
      "Color is: White \n",
      "Price is: 8700000 \n",
      "Owner is: Muhammad \n",
      "************************************************\n"
     ]
    }
   ],
   "source": [
    "class Car:\n",
    "    def __init__(self,make,model,color,price,owner):\n",
    "        self.make = make\n",
    "        self.model = model\n",
    "        self.color = color\n",
    "        self.price = price\n",
    "        self.owner = owner\n",
    "\n",
    "    #method for getting price\n",
    "    def getMake(self):\n",
    "        return self.make\n",
    "    \n",
    "    #method for getting owner and price\n",
    "    def getOwnerAndPrice(self):\n",
    "        return \"Owner is: \"+self.owner+\"\\nPrice is: \"+str(self.price)\n",
    "    \n",
    "    #method for getting all info of car\n",
    "    def printAllInfo(self):\n",
    "        print(\"************************************************\\nMake is:\"\n",
    "              ,self.make,\"\\nModel is:\",self.model,\n",
    "              \"\\nColor is:\",self.color,\"\\nPrice is:\",self.price,\n",
    "              \"\\nOwner is:\",self.owner,\n",
    "             \"\\n************************************************\")\n",
    "#object 1\n",
    "car1 = Car(\"Suzuki\",\"Mehran\",\"White\",700000,\"Ali\")\n",
    "car1.printAllInfo()\n",
    "print(car1.getMake())\n",
    "print(car1.getOwnerAndPrice())\n",
    "\n",
    "#object 2\n",
    "car2 = Car(\"Honda\",\"City\",\"Black\",2000000,\"Usama\")\n",
    "car2.printAllInfo()\n",
    "\n",
    "#object 3\n",
    "car3 = Car(\"Toyota\",\"XLI\",\"Brown\",1700000,\"Ahsan\")\n",
    "car3.printAllInfo()\n",
    "\n",
    "#object 4\n",
    "car4 = Car(\"Audi\",\"S5\",\"Grey\",4700000,\"Ahmed\")\n",
    "car4.printAllInfo()\n",
    "\n",
    "#object 5\n",
    "car5 = Car(\"Mercedez\",\"E Class\",\"White\",8700000,\"Muhammad\")\n",
    "car5.printAllInfo()\n"
   ]
  },
  {
   "cell_type": "code",
   "execution_count": null,
   "metadata": {},
   "outputs": [],
   "source": []
  }
 ],
 "metadata": {
  "kernelspec": {
   "display_name": "Python 3",
   "language": "python",
   "name": "python3"
  },
  "language_info": {
   "codemirror_mode": {
    "name": "ipython",
    "version": 3
   },
   "file_extension": ".py",
   "mimetype": "text/x-python",
   "name": "python",
   "nbconvert_exporter": "python",
   "pygments_lexer": "ipython3",
   "version": "3.7.3"
  }
 },
 "nbformat": 4,
 "nbformat_minor": 2
}
