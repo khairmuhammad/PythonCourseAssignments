{
 "cells": [
  {
   "cell_type": "markdown",
   "metadata": {},
   "source": [
    "### Assignment-03\n",
    "### Name: Khair Muhammad Memon\n",
    "### Roll No: PY01691\n",
    "### Email: khairmuhammadmemon@gmail.com"
   ]
  },
  {
   "cell_type": "markdown",
   "metadata": {},
   "source": [
    "#### 1. Make a calculator using Python with addition , subtraction , multiplication , division and power."
   ]
  },
  {
   "cell_type": "code",
   "execution_count": 21,
   "metadata": {},
   "outputs": [
    {
     "name": "stdout",
     "output_type": "stream",
     "text": [
      "Enter Number 1: 11\n",
      "Enter Number 2: 2\n",
      "Enter operation eg (-,+,/,*,**): **\n",
      "11.0  power  2.0  is:  121.0\n"
     ]
    }
   ],
   "source": [
    "num1 = float(input('Enter Number 1: '))\n",
    "num2 = float(input('Enter Number 2: '))\n",
    "operator = input('Enter operation eg (-,+,/,*,**): ')\n",
    "\n",
    "if (operator == '-'):\n",
    "    result = num1 - num2\n",
    "    print(\"Subtraction of \",num1,\" and \",num2,\" is \",result)\n",
    "elif(operator == '+'):\n",
    "    result = num1 + num2\n",
    "    print(\"Addition of \",num1,\" and \",num2,\" is \",result)\n",
    "elif(operator == '/'):\n",
    "    result = num1/num2\n",
    "    print(\"Division of \",num1,\" and \",num2,\" is \",result)\n",
    "elif(operator == '*'):\n",
    "    result = num1 * num2\n",
    "    print(\"Multiplication of \",num1,\" and \",num2,\" is \",result)\n",
    "elif(operator == '**'):\n",
    "    result = num1 ** num2\n",
    "    print(num1,\" power \",num2,\" is: \",result)\n",
    "else:\n",
    "    print('Enter correct operator')"
   ]
  },
  {
   "cell_type": "markdown",
   "metadata": {},
   "source": [
    "#### 2. Write a program to check if there is any numeric value in list using for loop"
   ]
  },
  {
   "cell_type": "code",
   "execution_count": 24,
   "metadata": {},
   "outputs": [
    {
     "name": "stdout",
     "output_type": "stream",
     "text": [
      "Found numeric value:  200\n",
      "Found numeric value:  30\n"
     ]
    }
   ],
   "source": [
    "myList  = [\"Hello\", \"World\", 200, \"Python\", \"Java\",True,30]\n",
    "\n",
    "for i in myList:\n",
    "    if type(i) == int:\n",
    "        print(\"Found numeric value: \",i)"
   ]
  },
  {
   "cell_type": "markdown",
   "metadata": {},
   "source": [
    "#### 3. Write a Python script to add a key to a dictionary"
   ]
  },
  {
   "cell_type": "code",
   "execution_count": 29,
   "metadata": {},
   "outputs": [
    {
     "name": "stdout",
     "output_type": "stream",
     "text": [
      "{'Num1': 255, 'Num2': 256, 'Num3': 257}\n",
      "{'Num1': 255, 'Num2': 256, 'Num3': 257, 'Num4': 258}\n"
     ]
    }
   ],
   "source": [
    "my_dict = {\"Num1\":255, \"Num2\":256,\"Num3\":257}  \n",
    "print(my_dict)  \n",
    "my_dict.update({\"Num4\":258})  \n",
    "print(my_dict)"
   ]
  },
  {
   "cell_type": "markdown",
   "metadata": {},
   "source": [
    "#### 4. Write a Python program to sum all the numeric items in a dictionary"
   ]
  },
  {
   "cell_type": "code",
   "execution_count": 35,
   "metadata": {},
   "outputs": [
    {
     "name": "stdout",
     "output_type": "stream",
     "text": [
      "Sum in Dictionary is: 763\n"
     ]
    }
   ],
   "source": [
    "my_dict = {\"Num1\":250, \"Num2\":256,\"Num3\":257}\n",
    "\n",
    "mySum = 0\n",
    "for i in my_dict:\n",
    "    mySum+=my_dict[i]\n",
    "    \n",
    "print('Sum in Dictionary is:',mySum)"
   ]
  },
  {
   "cell_type": "markdown",
   "metadata": {},
   "source": [
    "#### 5. Write a program to identify duplicate values from list"
   ]
  },
  {
   "cell_type": "code",
   "execution_count": 46,
   "metadata": {},
   "outputs": [
    {
     "name": "stdout",
     "output_type": "stream",
     "text": [
      "['World']\n"
     ]
    }
   ],
   "source": [
    "my_list = [\"Hello\",\"World\",\"Python\",\"World\",\"Helo\"]\n",
    "repeated_list = []\n",
    "\n",
    "size = len(my_list)\n",
    "for i in range(size):\n",
    "    tmp = i+1\n",
    "    for j in range(tmp,len(my_list)):\n",
    "        if my_list[i] == my_list[j] and my_list[i] not in repeated_list: \n",
    "            repeated_list.append(my_list[i])\n",
    "print(repeated_list)"
   ]
  },
  {
   "cell_type": "markdown",
   "metadata": {},
   "source": [
    "#### 6. Write a Python script to check if a given key already exists in a dictionary"
   ]
  },
  {
   "cell_type": "code",
   "execution_count": 49,
   "metadata": {},
   "outputs": [
    {
     "name": "stdout",
     "output_type": "stream",
     "text": [
      "found\n"
     ]
    }
   ],
   "source": [
    "my_dict = {\"Num1\":250, \"Num2\":256,\"Num3\":257,\"Num4\":223}\n",
    "\n",
    "key = \"Num2\"\n",
    "\n",
    "if key in my_dict:\n",
    "    print('found')\n",
    "else:\n",
    "    print('not found')"
   ]
  },
  {
   "cell_type": "code",
   "execution_count": null,
   "metadata": {},
   "outputs": [],
   "source": []
  }
 ],
 "metadata": {
  "kernelspec": {
   "display_name": "Python 3",
   "language": "python",
   "name": "python3"
  },
  "language_info": {
   "codemirror_mode": {
    "name": "ipython",
    "version": 3
   },
   "file_extension": ".py",
   "mimetype": "text/x-python",
   "name": "python",
   "nbconvert_exporter": "python",
   "pygments_lexer": "ipython3",
   "version": "3.7.3"
  }
 },
 "nbformat": 4,
 "nbformat_minor": 2
}
